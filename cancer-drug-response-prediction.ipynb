{
  "nbformat": 4,
  "nbformat_minor": 0,
  "metadata": {
    "colab": {
      "provenance": []
    },
    "kernelspec": {
      "name": "python3",
      "display_name": "Python 3"
    },
    "language_info": {
      "name": "python"
    }
  },
  "cells": [
    {
      "cell_type": "code",
      "execution_count": null,
      "metadata": {
        "id": "prgPjLfHT5BB"
      },
      "outputs": [],
      "source": [
        "#Import neccessary libraries.\n",
        "import pandas as pd\n",
        "import numpy as np\n",
        "import matplotlib.pyplot as plt\n",
        "import seaborn as sns\n",
        "from sklearn.model_selection import train_test_split\n",
        "from sklearn.linear_model import LinearRegression\n",
        "from sklearn.preprocessing import StandardScaler, OneHotEncoder\n",
        "from sklearn.compose import ColumnTransformer\n",
        "from sklearn.pipeline import Pipeline\n",
        "from sklearn.metrics import mean_squared_error, r2_score\n",
        "from google.colab import files\n",
        "import zipfile\n",
        "from google.colab import files\n",
        "import os"
      ]
    },
    {
      "cell_type": "code",
      "source": [
        "# Install the Kaggle API library and its dependencies.\n",
        "!pip install kaggle --upgrade --quiet"
      ],
      "metadata": {
        "id": "rC31KwR9FwQ_"
      },
      "execution_count": null,
      "outputs": []
    },
    {
      "cell_type": "code",
      "source": [
        "# Upload your kaggle.json file\n",
        "print(\"Please upload your kaggle.json API file.\")\n",
        "files.upload()"
      ],
      "metadata": {
        "id": "oixRStsQF2Mo"
      },
      "execution_count": null,
      "outputs": []
    },
    {
      "cell_type": "code",
      "source": [
        "# Set up the Kaggle API client\n",
        "!mkdir -p ~/.kaggle\n",
        "!mv kaggle.json ~/.kaggle/\n",
        "!chmod 600 ~/.kaggle/kaggle.json"
      ],
      "metadata": {
        "id": "ShfdWYp2F7xn"
      },
      "execution_count": null,
      "outputs": []
    },
    {
      "cell_type": "code",
      "source": [
        "DATASET_API_COMMAND = \"kaggle datasets download samiraalipour/genomics-of-drug-sensitivity-in-cancer-gdsc\"\n",
        "# The name of the zip file to expect.\n",
        "ZIP_FILE_NAME = \"genomics-of-drug-sensitivity-in-cancer-gdsc.zip\"\n",
        "# The directory to extract the files into.\n",
        "EXTRACTION_DIR = \"./gdsc-dataset\""
      ],
      "metadata": {
        "id": "_GEskRYwNcg9"
      },
      "execution_count": null,
      "outputs": []
    },
    {
      "cell_type": "code",
      "source": [
        "print(\"\\nDownloading dataset...\")\n",
        "!$DATASET_API_COMMAND"
      ],
      "metadata": {
        "colab": {
          "base_uri": "https://localhost:8080/"
        },
        "id": "d2bmqE_ePoyn",
        "outputId": "a081ed7c-9d4a-496f-e7c1-3d1beba8bf18"
      },
      "execution_count": null,
      "outputs": [
        {
          "output_type": "stream",
          "name": "stdout",
          "text": [
            "\n",
            "Downloading dataset...\n",
            "Dataset URL: https://www.kaggle.com/datasets/samiraalipour/genomics-of-drug-sensitivity-in-cancer-gdsc\n",
            "License(s): GPL-3.0\n",
            "Downloading genomics-of-drug-sensitivity-in-cancer-gdsc.zip to /content\n",
            "  0% 0.00/14.4M [00:00<?, ?B/s]\n",
            "100% 14.4M/14.4M [00:00<00:00, 1.29GB/s]\n"
          ]
        }
      ]
    },
    {
      "cell_type": "code",
      "source": [
        "#Unzip the dataset into the specified directory\n",
        "if os.path.exists(ZIP_FILE_NAME):\n",
        "    os.makedirs(EXTRACTION_DIR, exist_ok=True)\n",
        "    with zipfile.ZipFile(ZIP_FILE_NAME, 'r') as zip_ref:\n",
        "        zip_ref.extractall(EXTRACTION_DIR)\n",
        "    print(f\"Extraction of {ZIP_FILE_NAME} completed to {EXTRACTION_DIR}/\")\n",
        "    os.remove(ZIP_FILE_NAME)\n",
        "else:\n",
        "    print(f\"Error: {ZIP_FILE_NAME} not found. Please check the dataset API command.\")"
      ],
      "metadata": {
        "colab": {
          "base_uri": "https://localhost:8080/"
        },
        "id": "waBCazIHPpj1",
        "outputId": "ccd3bc88-84c2-47fe-9b04-c0551bf87883"
      },
      "execution_count": null,
      "outputs": [
        {
          "output_type": "stream",
          "name": "stdout",
          "text": [
            "Extraction of genomics-of-drug-sensitivity-in-cancer-gdsc.zip completed to ./gdsc-dataset/\n"
          ]
        }
      ]
    },
    {
      "cell_type": "code",
      "source": [
        "#Verify the files are extracted\n",
        "print(\"\\nExtracted files are available at:\", EXTRACTION_DIR)\n",
        "print(\"Listing contents of the extraction directory:\")\n",
        "!ls -F {EXTRACTION_DIR}"
      ],
      "metadata": {
        "colab": {
          "base_uri": "https://localhost:8080/"
        },
        "id": "ClWLHo2vP_t9",
        "outputId": "871de27e-5f1c-4c4a-e9f2-95442b9072b8"
      },
      "execution_count": null,
      "outputs": [
        {
          "output_type": "stream",
          "name": "stdout",
          "text": [
            "\n",
            "Extracted files are available at: ./gdsc-dataset\n",
            "Listing contents of the extraction directory:\n",
            "Cell_Lines_Details.xlsx   GDSC2-dataset.csv\n",
            "Compounds-annotation.csv  GDSC_DATASET.csv\n"
          ]
        }
      ]
    },
    {
      "cell_type": "code",
      "source": [
        "# The EXTRACTION_DIR is already defined and populated by the first cell.\n",
        "# Define the file paths for each CSV file.\n",
        "gdsc_dataset_file_path = os.path.join(EXTRACTION_DIR, 'GDSC_DATASET.csv')\n",
        "gdsc_dataset2_file_path = os.path.join(EXTRACTION_DIR, 'GDSC2-dataset.csv')"
      ],
      "metadata": {
        "id": "2GuvKdbnQp08"
      },
      "execution_count": null,
      "outputs": []
    },
    {
      "cell_type": "code",
      "source": [
        "# Load the datasets into pandas DataFrames.\n",
        "gdsc_df = pd.read_csv(gdsc_dataset_file_path)\n",
        "drug_conc_df = pd.read_csv(gdsc_dataset2_file_path)"
      ],
      "metadata": {
        "id": "45zUiQrF2Z8L"
      },
      "execution_count": null,
      "outputs": []
    },
    {
      "cell_type": "code",
      "source": [
        "#Viewing initial content of the dataset.\n",
        "print(gdsc_df.head())"
      ],
      "metadata": {
        "id": "2gGupTtB2ndo",
        "colab": {
          "base_uri": "https://localhost:8080/"
        },
        "outputId": "916ef675-57ad-4ff8-a1c4-feb417ad799e"
      },
      "execution_count": null,
      "outputs": [
        {
          "output_type": "stream",
          "name": "stdout",
          "text": [
            "   COSMIC_ID CELL_LINE_NAME     TCGA_DESC  DRUG_ID     DRUG_NAME   LN_IC50  \\\n",
            "0     683667         PFSK-1            MB     1003  Camptothecin -1.463887   \n",
            "1     684057            ES5  UNCLASSIFIED     1003  Camptothecin -3.360586   \n",
            "2     684059            ES7  UNCLASSIFIED     1003  Camptothecin -5.044940   \n",
            "3     684062          EW-11  UNCLASSIFIED     1003  Camptothecin -3.741991   \n",
            "4     684072        SK-ES-1  UNCLASSIFIED     1003  Camptothecin -5.142961   \n",
            "\n",
            "        AUC   Z_SCORE GDSC Tissue descriptor 1 GDSC Tissue descriptor 2  \\\n",
            "0  0.930220  0.433123           nervous_system          medulloblastoma   \n",
            "1  0.791072 -0.599569                     bone           ewings_sarcoma   \n",
            "2  0.592660 -1.516647                     bone           ewings_sarcoma   \n",
            "3  0.734047 -0.807232                     bone           ewings_sarcoma   \n",
            "4  0.582439 -1.570016                     bone           ewings_sarcoma   \n",
            "\n",
            "  Cancer Type (matching TCGA label) Microsatellite instability Status (MSI)  \\\n",
            "0                                MB                               MSS/MSI-L   \n",
            "1                               NaN                               MSS/MSI-L   \n",
            "2                               NaN                               MSS/MSI-L   \n",
            "3                               NaN                               MSS/MSI-L   \n",
            "4                               NaN                               MSS/MSI-L   \n",
            "\n",
            "  Screen Medium Growth Properties CNA Gene Expression Methylation TARGET  \\\n",
            "0             R          Adherent   Y               Y           Y   TOP1   \n",
            "1             R          Adherent   Y               Y           Y   TOP1   \n",
            "2             R          Adherent   Y               Y           Y   TOP1   \n",
            "3             R          Adherent   Y               Y           Y   TOP1   \n",
            "4             R     Semi-Adherent   Y               Y           Y   TOP1   \n",
            "\n",
            "    TARGET_PATHWAY  \n",
            "0  DNA replication  \n",
            "1  DNA replication  \n",
            "2  DNA replication  \n",
            "3  DNA replication  \n",
            "4  DNA replication  \n"
          ]
        }
      ]
    },
    {
      "cell_type": "code",
      "source": [
        "#Viewing statistical information of the dataset.\n",
        "print(gdsc_df.info())"
      ],
      "metadata": {
        "id": "CNA1XRAE2pWz",
        "colab": {
          "base_uri": "https://localhost:8080/"
        },
        "outputId": "f2bec044-6d89-4d49-d2d3-868a7b10d1b3"
      },
      "execution_count": null,
      "outputs": [
        {
          "output_type": "stream",
          "name": "stdout",
          "text": [
            "<class 'pandas.core.frame.DataFrame'>\n",
            "RangeIndex: 242035 entries, 0 to 242034\n",
            "Data columns (total 19 columns):\n",
            " #   Column                                   Non-Null Count   Dtype  \n",
            "---  ------                                   --------------   -----  \n",
            " 0   COSMIC_ID                                242035 non-null  int64  \n",
            " 1   CELL_LINE_NAME                           242035 non-null  object \n",
            " 2   TCGA_DESC                                240968 non-null  object \n",
            " 3   DRUG_ID                                  242035 non-null  int64  \n",
            " 4   DRUG_NAME                                242035 non-null  object \n",
            " 5   LN_IC50                                  242035 non-null  float64\n",
            " 6   AUC                                      242035 non-null  float64\n",
            " 7   Z_SCORE                                  242035 non-null  float64\n",
            " 8   GDSC Tissue descriptor 1                 232669 non-null  object \n",
            " 9   GDSC Tissue descriptor 2                 232669 non-null  object \n",
            " 10  Cancer Type (matching TCGA label)        190589 non-null  object \n",
            " 11  Microsatellite instability Status (MSI)  229682 non-null  object \n",
            " 12  Screen Medium                            232669 non-null  object \n",
            " 13  Growth Properties                        232669 non-null  object \n",
            " 14  CNA                                      232669 non-null  object \n",
            " 15  Gene Expression                          232669 non-null  object \n",
            " 16  Methylation                              232669 non-null  object \n",
            " 17  TARGET                                   214880 non-null  object \n",
            " 18  TARGET_PATHWAY                           242035 non-null  object \n",
            "dtypes: float64(3), int64(2), object(14)\n",
            "memory usage: 35.1+ MB\n",
            "None\n"
          ]
        }
      ]
    },
    {
      "cell_type": "code",
      "source": [
        "#Finding different cancer types in GDSC dataset\n",
        "print(\"Unique cancer types in dataset:\", gdsc_df['TCGA_DESC'].unique())"
      ],
      "metadata": {
        "id": "Vcx18oSF7zzg",
        "colab": {
          "base_uri": "https://localhost:8080/"
        },
        "outputId": "179e064b-5e8e-44f5-9ee5-5468010ef95c"
      },
      "execution_count": null,
      "outputs": [
        {
          "output_type": "stream",
          "name": "stdout",
          "text": [
            "Unique cancer types in dataset: ['MB' 'UNCLASSIFIED' 'SKCM' 'BLCA' 'CESC' 'GBM' 'LUAD' 'LUSC' 'SCLC'\n",
            " 'MESO' 'NB' 'MM' 'PAAD' 'ESCA' 'BRCA' 'HNSC' 'KIRC' 'LAML' 'OV' 'PRAD'\n",
            " 'COREAD' 'LCML' 'ALL' 'LGG' nan 'THCA' 'STAD' 'DLBC' 'UCEC' 'LIHC' 'CLL'\n",
            " 'ACC' 'OTHER']\n"
          ]
        }
      ]
    },
    {
      "cell_type": "code",
      "source": [
        "# Filter the main GDSC dataset to include only breast cancer cell lines.\n",
        "# The `.copy()` method is used to ensure we are working on a new, independent DataFrame\n",
        "breast_cancer_df = gdsc_df[gdsc_df['TCGA_DESC'] == 'BRCA'].copy()\n",
        "# Merge the breast cancer data with drug concentration details.\n",
        "# The merge is performed on 'DRUG_ID', with a 'left' join to ensure all breast cancer\n",
        "# rows are kept, and concentration data is added only for matching Drug IDs.\n",
        "merged_df = pd.merge(breast_cancer_df, drug_conc_df[['DRUG_ID', 'MAX_CONC', 'MIN_CONC']], on='DRUG_ID', how='left')\n",
        "# The `dropna` function is used here to remove any rows where there was no matching\n",
        "merged_df.dropna(subset=['MAX_CONC', 'MIN_CONC'], inplace=True)"
      ],
      "metadata": {
        "id": "p5hi8AQW8g0d"
      },
      "execution_count": null,
      "outputs": []
    },
    {
      "cell_type": "code",
      "source": [
        "#Compare the size of origional dataset with the filtered dataset.\n",
        "print(f\"Original dataset size: {gdsc_df.shape[0]} rows\")\n",
        "print(f\"Filtered breast cancer dataset size: {breast_cancer_df.shape[0]} rows\")"
      ],
      "metadata": {
        "id": "4_CEMCBY8l-1",
        "colab": {
          "base_uri": "https://localhost:8080/"
        },
        "outputId": "22719194-d9fc-4386-84af-eda077a2a9c3"
      },
      "execution_count": null,
      "outputs": [
        {
          "output_type": "stream",
          "name": "stdout",
          "text": [
            "Original dataset size: 242035 rows\n",
            "Filtered breast cancer dataset size: 13106 rows\n"
          ]
        }
      ]
    },
    {
      "cell_type": "code",
      "source": [
        "#Inspecct merged dataset.\n",
        "print(f\"\\nMerged dataset size: {merged_df.shape} rows\")\n",
        "print(\"\\nMerged DataFrame head:\")\n",
        "print(merged_df.head())"
      ],
      "metadata": {
        "id": "r92WNirC0PLI",
        "colab": {
          "base_uri": "https://localhost:8080/"
        },
        "outputId": "44970973-5cc6-4818-eea0-730aeabdada3"
      },
      "execution_count": null,
      "outputs": [
        {
          "output_type": "stream",
          "name": "stdout",
          "text": [
            "\n",
            "Merged dataset size: (11121246, 21) rows\n",
            "\n",
            "Merged DataFrame head:\n",
            "   COSMIC_ID CELL_LINE_NAME TCGA_DESC  DRUG_ID     DRUG_NAME   LN_IC50  \\\n",
            "0     749709        HCC1954      BRCA     1003  Camptothecin  0.317741   \n",
            "1     749709        HCC1954      BRCA     1003  Camptothecin  0.317741   \n",
            "2     749709        HCC1954      BRCA     1003  Camptothecin  0.317741   \n",
            "3     749709        HCC1954      BRCA     1003  Camptothecin  0.317741   \n",
            "4     749709        HCC1954      BRCA     1003  Camptothecin  0.317741   \n",
            "\n",
            "        AUC   Z_SCORE GDSC Tissue descriptor 1 GDSC Tissue descriptor 2  ...  \\\n",
            "0  0.983262  1.403164                   breast                   breast  ...   \n",
            "1  0.983262  1.403164                   breast                   breast  ...   \n",
            "2  0.983262  1.403164                   breast                   breast  ...   \n",
            "3  0.983262  1.403164                   breast                   breast  ...   \n",
            "4  0.983262  1.403164                   breast                   breast  ...   \n",
            "\n",
            "  Microsatellite instability Status (MSI) Screen Medium Growth Properties CNA  \\\n",
            "0                               MSS/MSI-L             R          Adherent   Y   \n",
            "1                               MSS/MSI-L             R          Adherent   Y   \n",
            "2                               MSS/MSI-L             R          Adherent   Y   \n",
            "3                               MSS/MSI-L             R          Adherent   Y   \n",
            "4                               MSS/MSI-L             R          Adherent   Y   \n",
            "\n",
            "  Gene Expression Methylation TARGET   TARGET_PATHWAY MAX_CONC  MIN_CONC  \n",
            "0               Y           Y   TOP1  DNA replication      0.1    0.0001  \n",
            "1               Y           Y   TOP1  DNA replication      0.1    0.0001  \n",
            "2               Y           Y   TOP1  DNA replication      0.1    0.0001  \n",
            "3               Y           Y   TOP1  DNA replication      0.1    0.0001  \n",
            "4               Y           Y   TOP1  DNA replication      0.1    0.0001  \n",
            "\n",
            "[5 rows x 21 columns]\n"
          ]
        }
      ]
    },
    {
      "cell_type": "code",
      "source": [
        "# Define the target variable.\n",
        "target = 'LN_IC50'"
      ],
      "metadata": {
        "id": "lbwm98tW8vih"
      },
      "execution_count": null,
      "outputs": []
    },
    {
      "cell_type": "code",
      "source": [
        "#Feature selection.\n",
        "features = ['DRUG_NAME', 'TARGET_PATHWAY', 'TARGET', 'MAX_CONC', 'MIN_CONC']"
      ],
      "metadata": {
        "id": "b4kjADptVg2C"
      },
      "execution_count": null,
      "outputs": []
    },
    {
      "cell_type": "code",
      "source": [
        "#Features on x and Target on y axis.\n",
        "X = merged_df[features]\n",
        "y = merged_df[target]"
      ],
      "metadata": {
        "id": "xGVkmoPcVlzl"
      },
      "execution_count": null,
      "outputs": []
    },
    {
      "cell_type": "code",
      "source": [
        "# Define numerical and categorical features for preprocessing.\n",
        "categorical_features = ['DRUG_NAME', 'TARGET_PATHWAY', 'TARGET']\n",
        "numerical_features = ['MAX_CONC', 'MIN_CONC']"
      ],
      "metadata": {
        "id": "pReKHhzfWDSO"
      },
      "execution_count": null,
      "outputs": []
    },
    {
      "cell_type": "code",
      "source": [
        "#Standardisation for numerical features and one hot encoding for categorical features.\n",
        "numerical_transformer = StandardScaler()\n",
        "categorical_transformer = OneHotEncoder(handle_unknown='ignore')"
      ],
      "metadata": {
        "id": "-MAs9b8bXo0i"
      },
      "execution_count": null,
      "outputs": []
    },
    {
      "cell_type": "code",
      "source": [
        "# Create preprocessing pipelines for numerical (StandardScaler) and categorical (OneHotEncoder) data.\n",
        "preprocessor = ColumnTransformer(\n",
        "    transformers=[\n",
        "        ('num', numerical_transformer, numerical_features),\n",
        "        ('cat', categorical_transformer, categorical_features)\n",
        "    ],\n",
        "    remainder='passthrough'\n",
        ")"
      ],
      "metadata": {
        "id": "xT1tMM90Xs_g"
      },
      "execution_count": null,
      "outputs": []
    },
    {
      "cell_type": "code",
      "source": [
        "# Split the data into training and testing sets. `random_state=42` ensures the split is reproducible.\n",
        "X_train, X_test, y_train, y_test = train_test_split(\n",
        "    X, y, test_size=0.25, random_state=42\n",
        ")"
      ],
      "metadata": {
        "id": "zI_hdVZ0X4-F"
      },
      "execution_count": null,
      "outputs": []
    },
    {
      "cell_type": "code",
      "source": [
        "# Create the final model pipeline that preprocesses and then trains the regressor.\n",
        "model = Pipeline(steps=[\n",
        "    ('preprocessor', preprocessor),\n",
        "    ('regressor', LinearRegression())\n",
        "])"
      ],
      "metadata": {
        "id": "6Z_GENiZX52b"
      },
      "execution_count": null,
      "outputs": []
    },
    {
      "cell_type": "code",
      "source": [
        "# Train the model pipeline on the training data.\n",
        "model.fit(X_train, y_train)"
      ],
      "metadata": {
        "id": "HgG0ljaDX_ZP",
        "colab": {
          "base_uri": "https://localhost:8080/",
          "height": 249
        },
        "outputId": "a73dbe6e-634e-4dbd-8953-cf8fab43f425"
      },
      "execution_count": null,
      "outputs": [
        {
          "output_type": "execute_result",
          "data": {
            "text/plain": [
              "Pipeline(steps=[('preprocessor',\n",
              "                 ColumnTransformer(remainder='passthrough',\n",
              "                                   transformers=[('num', StandardScaler(),\n",
              "                                                  ['MAX_CONC', 'MIN_CONC']),\n",
              "                                                 ('cat',\n",
              "                                                  OneHotEncoder(handle_unknown='ignore'),\n",
              "                                                  ['DRUG_NAME',\n",
              "                                                   'TARGET_PATHWAY',\n",
              "                                                   'TARGET'])])),\n",
              "                ('regressor', LinearRegression())])"
            ],
            "text/html": [
              "<style>#sk-container-id-2 {\n",
              "  /* Definition of color scheme common for light and dark mode */\n",
              "  --sklearn-color-text: #000;\n",
              "  --sklearn-color-text-muted: #666;\n",
              "  --sklearn-color-line: gray;\n",
              "  /* Definition of color scheme for unfitted estimators */\n",
              "  --sklearn-color-unfitted-level-0: #fff5e6;\n",
              "  --sklearn-color-unfitted-level-1: #f6e4d2;\n",
              "  --sklearn-color-unfitted-level-2: #ffe0b3;\n",
              "  --sklearn-color-unfitted-level-3: chocolate;\n",
              "  /* Definition of color scheme for fitted estimators */\n",
              "  --sklearn-color-fitted-level-0: #f0f8ff;\n",
              "  --sklearn-color-fitted-level-1: #d4ebff;\n",
              "  --sklearn-color-fitted-level-2: #b3dbfd;\n",
              "  --sklearn-color-fitted-level-3: cornflowerblue;\n",
              "\n",
              "  /* Specific color for light theme */\n",
              "  --sklearn-color-text-on-default-background: var(--sg-text-color, var(--theme-code-foreground, var(--jp-content-font-color1, black)));\n",
              "  --sklearn-color-background: var(--sg-background-color, var(--theme-background, var(--jp-layout-color0, white)));\n",
              "  --sklearn-color-border-box: var(--sg-text-color, var(--theme-code-foreground, var(--jp-content-font-color1, black)));\n",
              "  --sklearn-color-icon: #696969;\n",
              "\n",
              "  @media (prefers-color-scheme: dark) {\n",
              "    /* Redefinition of color scheme for dark theme */\n",
              "    --sklearn-color-text-on-default-background: var(--sg-text-color, var(--theme-code-foreground, var(--jp-content-font-color1, white)));\n",
              "    --sklearn-color-background: var(--sg-background-color, var(--theme-background, var(--jp-layout-color0, #111)));\n",
              "    --sklearn-color-border-box: var(--sg-text-color, var(--theme-code-foreground, var(--jp-content-font-color1, white)));\n",
              "    --sklearn-color-icon: #878787;\n",
              "  }\n",
              "}\n",
              "\n",
              "#sk-container-id-2 {\n",
              "  color: var(--sklearn-color-text);\n",
              "}\n",
              "\n",
              "#sk-container-id-2 pre {\n",
              "  padding: 0;\n",
              "}\n",
              "\n",
              "#sk-container-id-2 input.sk-hidden--visually {\n",
              "  border: 0;\n",
              "  clip: rect(1px 1px 1px 1px);\n",
              "  clip: rect(1px, 1px, 1px, 1px);\n",
              "  height: 1px;\n",
              "  margin: -1px;\n",
              "  overflow: hidden;\n",
              "  padding: 0;\n",
              "  position: absolute;\n",
              "  width: 1px;\n",
              "}\n",
              "\n",
              "#sk-container-id-2 div.sk-dashed-wrapped {\n",
              "  border: 1px dashed var(--sklearn-color-line);\n",
              "  margin: 0 0.4em 0.5em 0.4em;\n",
              "  box-sizing: border-box;\n",
              "  padding-bottom: 0.4em;\n",
              "  background-color: var(--sklearn-color-background);\n",
              "}\n",
              "\n",
              "#sk-container-id-2 div.sk-container {\n",
              "  /* jupyter's `normalize.less` sets `[hidden] { display: none; }`\n",
              "     but bootstrap.min.css set `[hidden] { display: none !important; }`\n",
              "     so we also need the `!important` here to be able to override the\n",
              "     default hidden behavior on the sphinx rendered scikit-learn.org.\n",
              "     See: https://github.com/scikit-learn/scikit-learn/issues/21755 */\n",
              "  display: inline-block !important;\n",
              "  position: relative;\n",
              "}\n",
              "\n",
              "#sk-container-id-2 div.sk-text-repr-fallback {\n",
              "  display: none;\n",
              "}\n",
              "\n",
              "div.sk-parallel-item,\n",
              "div.sk-serial,\n",
              "div.sk-item {\n",
              "  /* draw centered vertical line to link estimators */\n",
              "  background-image: linear-gradient(var(--sklearn-color-text-on-default-background), var(--sklearn-color-text-on-default-background));\n",
              "  background-size: 2px 100%;\n",
              "  background-repeat: no-repeat;\n",
              "  background-position: center center;\n",
              "}\n",
              "\n",
              "/* Parallel-specific style estimator block */\n",
              "\n",
              "#sk-container-id-2 div.sk-parallel-item::after {\n",
              "  content: \"\";\n",
              "  width: 100%;\n",
              "  border-bottom: 2px solid var(--sklearn-color-text-on-default-background);\n",
              "  flex-grow: 1;\n",
              "}\n",
              "\n",
              "#sk-container-id-2 div.sk-parallel {\n",
              "  display: flex;\n",
              "  align-items: stretch;\n",
              "  justify-content: center;\n",
              "  background-color: var(--sklearn-color-background);\n",
              "  position: relative;\n",
              "}\n",
              "\n",
              "#sk-container-id-2 div.sk-parallel-item {\n",
              "  display: flex;\n",
              "  flex-direction: column;\n",
              "}\n",
              "\n",
              "#sk-container-id-2 div.sk-parallel-item:first-child::after {\n",
              "  align-self: flex-end;\n",
              "  width: 50%;\n",
              "}\n",
              "\n",
              "#sk-container-id-2 div.sk-parallel-item:last-child::after {\n",
              "  align-self: flex-start;\n",
              "  width: 50%;\n",
              "}\n",
              "\n",
              "#sk-container-id-2 div.sk-parallel-item:only-child::after {\n",
              "  width: 0;\n",
              "}\n",
              "\n",
              "/* Serial-specific style estimator block */\n",
              "\n",
              "#sk-container-id-2 div.sk-serial {\n",
              "  display: flex;\n",
              "  flex-direction: column;\n",
              "  align-items: center;\n",
              "  background-color: var(--sklearn-color-background);\n",
              "  padding-right: 1em;\n",
              "  padding-left: 1em;\n",
              "}\n",
              "\n",
              "\n",
              "/* Toggleable style: style used for estimator/Pipeline/ColumnTransformer box that is\n",
              "clickable and can be expanded/collapsed.\n",
              "- Pipeline and ColumnTransformer use this feature and define the default style\n",
              "- Estimators will overwrite some part of the style using the `sk-estimator` class\n",
              "*/\n",
              "\n",
              "/* Pipeline and ColumnTransformer style (default) */\n",
              "\n",
              "#sk-container-id-2 div.sk-toggleable {\n",
              "  /* Default theme specific background. It is overwritten whether we have a\n",
              "  specific estimator or a Pipeline/ColumnTransformer */\n",
              "  background-color: var(--sklearn-color-background);\n",
              "}\n",
              "\n",
              "/* Toggleable label */\n",
              "#sk-container-id-2 label.sk-toggleable__label {\n",
              "  cursor: pointer;\n",
              "  display: flex;\n",
              "  width: 100%;\n",
              "  margin-bottom: 0;\n",
              "  padding: 0.5em;\n",
              "  box-sizing: border-box;\n",
              "  text-align: center;\n",
              "  align-items: start;\n",
              "  justify-content: space-between;\n",
              "  gap: 0.5em;\n",
              "}\n",
              "\n",
              "#sk-container-id-2 label.sk-toggleable__label .caption {\n",
              "  font-size: 0.6rem;\n",
              "  font-weight: lighter;\n",
              "  color: var(--sklearn-color-text-muted);\n",
              "}\n",
              "\n",
              "#sk-container-id-2 label.sk-toggleable__label-arrow:before {\n",
              "  /* Arrow on the left of the label */\n",
              "  content: \"▸\";\n",
              "  float: left;\n",
              "  margin-right: 0.25em;\n",
              "  color: var(--sklearn-color-icon);\n",
              "}\n",
              "\n",
              "#sk-container-id-2 label.sk-toggleable__label-arrow:hover:before {\n",
              "  color: var(--sklearn-color-text);\n",
              "}\n",
              "\n",
              "/* Toggleable content - dropdown */\n",
              "\n",
              "#sk-container-id-2 div.sk-toggleable__content {\n",
              "  max-height: 0;\n",
              "  max-width: 0;\n",
              "  overflow: hidden;\n",
              "  text-align: left;\n",
              "  /* unfitted */\n",
              "  background-color: var(--sklearn-color-unfitted-level-0);\n",
              "}\n",
              "\n",
              "#sk-container-id-2 div.sk-toggleable__content.fitted {\n",
              "  /* fitted */\n",
              "  background-color: var(--sklearn-color-fitted-level-0);\n",
              "}\n",
              "\n",
              "#sk-container-id-2 div.sk-toggleable__content pre {\n",
              "  margin: 0.2em;\n",
              "  border-radius: 0.25em;\n",
              "  color: var(--sklearn-color-text);\n",
              "  /* unfitted */\n",
              "  background-color: var(--sklearn-color-unfitted-level-0);\n",
              "}\n",
              "\n",
              "#sk-container-id-2 div.sk-toggleable__content.fitted pre {\n",
              "  /* unfitted */\n",
              "  background-color: var(--sklearn-color-fitted-level-0);\n",
              "}\n",
              "\n",
              "#sk-container-id-2 input.sk-toggleable__control:checked~div.sk-toggleable__content {\n",
              "  /* Expand drop-down */\n",
              "  max-height: 200px;\n",
              "  max-width: 100%;\n",
              "  overflow: auto;\n",
              "}\n",
              "\n",
              "#sk-container-id-2 input.sk-toggleable__control:checked~label.sk-toggleable__label-arrow:before {\n",
              "  content: \"▾\";\n",
              "}\n",
              "\n",
              "/* Pipeline/ColumnTransformer-specific style */\n",
              "\n",
              "#sk-container-id-2 div.sk-label input.sk-toggleable__control:checked~label.sk-toggleable__label {\n",
              "  color: var(--sklearn-color-text);\n",
              "  background-color: var(--sklearn-color-unfitted-level-2);\n",
              "}\n",
              "\n",
              "#sk-container-id-2 div.sk-label.fitted input.sk-toggleable__control:checked~label.sk-toggleable__label {\n",
              "  background-color: var(--sklearn-color-fitted-level-2);\n",
              "}\n",
              "\n",
              "/* Estimator-specific style */\n",
              "\n",
              "/* Colorize estimator box */\n",
              "#sk-container-id-2 div.sk-estimator input.sk-toggleable__control:checked~label.sk-toggleable__label {\n",
              "  /* unfitted */\n",
              "  background-color: var(--sklearn-color-unfitted-level-2);\n",
              "}\n",
              "\n",
              "#sk-container-id-2 div.sk-estimator.fitted input.sk-toggleable__control:checked~label.sk-toggleable__label {\n",
              "  /* fitted */\n",
              "  background-color: var(--sklearn-color-fitted-level-2);\n",
              "}\n",
              "\n",
              "#sk-container-id-2 div.sk-label label.sk-toggleable__label,\n",
              "#sk-container-id-2 div.sk-label label {\n",
              "  /* The background is the default theme color */\n",
              "  color: var(--sklearn-color-text-on-default-background);\n",
              "}\n",
              "\n",
              "/* On hover, darken the color of the background */\n",
              "#sk-container-id-2 div.sk-label:hover label.sk-toggleable__label {\n",
              "  color: var(--sklearn-color-text);\n",
              "  background-color: var(--sklearn-color-unfitted-level-2);\n",
              "}\n",
              "\n",
              "/* Label box, darken color on hover, fitted */\n",
              "#sk-container-id-2 div.sk-label.fitted:hover label.sk-toggleable__label.fitted {\n",
              "  color: var(--sklearn-color-text);\n",
              "  background-color: var(--sklearn-color-fitted-level-2);\n",
              "}\n",
              "\n",
              "/* Estimator label */\n",
              "\n",
              "#sk-container-id-2 div.sk-label label {\n",
              "  font-family: monospace;\n",
              "  font-weight: bold;\n",
              "  display: inline-block;\n",
              "  line-height: 1.2em;\n",
              "}\n",
              "\n",
              "#sk-container-id-2 div.sk-label-container {\n",
              "  text-align: center;\n",
              "}\n",
              "\n",
              "/* Estimator-specific */\n",
              "#sk-container-id-2 div.sk-estimator {\n",
              "  font-family: monospace;\n",
              "  border: 1px dotted var(--sklearn-color-border-box);\n",
              "  border-radius: 0.25em;\n",
              "  box-sizing: border-box;\n",
              "  margin-bottom: 0.5em;\n",
              "  /* unfitted */\n",
              "  background-color: var(--sklearn-color-unfitted-level-0);\n",
              "}\n",
              "\n",
              "#sk-container-id-2 div.sk-estimator.fitted {\n",
              "  /* fitted */\n",
              "  background-color: var(--sklearn-color-fitted-level-0);\n",
              "}\n",
              "\n",
              "/* on hover */\n",
              "#sk-container-id-2 div.sk-estimator:hover {\n",
              "  /* unfitted */\n",
              "  background-color: var(--sklearn-color-unfitted-level-2);\n",
              "}\n",
              "\n",
              "#sk-container-id-2 div.sk-estimator.fitted:hover {\n",
              "  /* fitted */\n",
              "  background-color: var(--sklearn-color-fitted-level-2);\n",
              "}\n",
              "\n",
              "/* Specification for estimator info (e.g. \"i\" and \"?\") */\n",
              "\n",
              "/* Common style for \"i\" and \"?\" */\n",
              "\n",
              ".sk-estimator-doc-link,\n",
              "a:link.sk-estimator-doc-link,\n",
              "a:visited.sk-estimator-doc-link {\n",
              "  float: right;\n",
              "  font-size: smaller;\n",
              "  line-height: 1em;\n",
              "  font-family: monospace;\n",
              "  background-color: var(--sklearn-color-background);\n",
              "  border-radius: 1em;\n",
              "  height: 1em;\n",
              "  width: 1em;\n",
              "  text-decoration: none !important;\n",
              "  margin-left: 0.5em;\n",
              "  text-align: center;\n",
              "  /* unfitted */\n",
              "  border: var(--sklearn-color-unfitted-level-1) 1pt solid;\n",
              "  color: var(--sklearn-color-unfitted-level-1);\n",
              "}\n",
              "\n",
              ".sk-estimator-doc-link.fitted,\n",
              "a:link.sk-estimator-doc-link.fitted,\n",
              "a:visited.sk-estimator-doc-link.fitted {\n",
              "  /* fitted */\n",
              "  border: var(--sklearn-color-fitted-level-1) 1pt solid;\n",
              "  color: var(--sklearn-color-fitted-level-1);\n",
              "}\n",
              "\n",
              "/* On hover */\n",
              "div.sk-estimator:hover .sk-estimator-doc-link:hover,\n",
              ".sk-estimator-doc-link:hover,\n",
              "div.sk-label-container:hover .sk-estimator-doc-link:hover,\n",
              ".sk-estimator-doc-link:hover {\n",
              "  /* unfitted */\n",
              "  background-color: var(--sklearn-color-unfitted-level-3);\n",
              "  color: var(--sklearn-color-background);\n",
              "  text-decoration: none;\n",
              "}\n",
              "\n",
              "div.sk-estimator.fitted:hover .sk-estimator-doc-link.fitted:hover,\n",
              ".sk-estimator-doc-link.fitted:hover,\n",
              "div.sk-label-container:hover .sk-estimator-doc-link.fitted:hover,\n",
              ".sk-estimator-doc-link.fitted:hover {\n",
              "  /* fitted */\n",
              "  background-color: var(--sklearn-color-fitted-level-3);\n",
              "  color: var(--sklearn-color-background);\n",
              "  text-decoration: none;\n",
              "}\n",
              "\n",
              "/* Span, style for the box shown on hovering the info icon */\n",
              ".sk-estimator-doc-link span {\n",
              "  display: none;\n",
              "  z-index: 9999;\n",
              "  position: relative;\n",
              "  font-weight: normal;\n",
              "  right: .2ex;\n",
              "  padding: .5ex;\n",
              "  margin: .5ex;\n",
              "  width: min-content;\n",
              "  min-width: 20ex;\n",
              "  max-width: 50ex;\n",
              "  color: var(--sklearn-color-text);\n",
              "  box-shadow: 2pt 2pt 4pt #999;\n",
              "  /* unfitted */\n",
              "  background: var(--sklearn-color-unfitted-level-0);\n",
              "  border: .5pt solid var(--sklearn-color-unfitted-level-3);\n",
              "}\n",
              "\n",
              ".sk-estimator-doc-link.fitted span {\n",
              "  /* fitted */\n",
              "  background: var(--sklearn-color-fitted-level-0);\n",
              "  border: var(--sklearn-color-fitted-level-3);\n",
              "}\n",
              "\n",
              ".sk-estimator-doc-link:hover span {\n",
              "  display: block;\n",
              "}\n",
              "\n",
              "/* \"?\"-specific style due to the `<a>` HTML tag */\n",
              "\n",
              "#sk-container-id-2 a.estimator_doc_link {\n",
              "  float: right;\n",
              "  font-size: 1rem;\n",
              "  line-height: 1em;\n",
              "  font-family: monospace;\n",
              "  background-color: var(--sklearn-color-background);\n",
              "  border-radius: 1rem;\n",
              "  height: 1rem;\n",
              "  width: 1rem;\n",
              "  text-decoration: none;\n",
              "  /* unfitted */\n",
              "  color: var(--sklearn-color-unfitted-level-1);\n",
              "  border: var(--sklearn-color-unfitted-level-1) 1pt solid;\n",
              "}\n",
              "\n",
              "#sk-container-id-2 a.estimator_doc_link.fitted {\n",
              "  /* fitted */\n",
              "  border: var(--sklearn-color-fitted-level-1) 1pt solid;\n",
              "  color: var(--sklearn-color-fitted-level-1);\n",
              "}\n",
              "\n",
              "/* On hover */\n",
              "#sk-container-id-2 a.estimator_doc_link:hover {\n",
              "  /* unfitted */\n",
              "  background-color: var(--sklearn-color-unfitted-level-3);\n",
              "  color: var(--sklearn-color-background);\n",
              "  text-decoration: none;\n",
              "}\n",
              "\n",
              "#sk-container-id-2 a.estimator_doc_link.fitted:hover {\n",
              "  /* fitted */\n",
              "  background-color: var(--sklearn-color-fitted-level-3);\n",
              "}\n",
              "</style><div id=\"sk-container-id-2\" class=\"sk-top-container\"><div class=\"sk-text-repr-fallback\"><pre>Pipeline(steps=[(&#x27;preprocessor&#x27;,\n",
              "                 ColumnTransformer(remainder=&#x27;passthrough&#x27;,\n",
              "                                   transformers=[(&#x27;num&#x27;, StandardScaler(),\n",
              "                                                  [&#x27;MAX_CONC&#x27;, &#x27;MIN_CONC&#x27;]),\n",
              "                                                 (&#x27;cat&#x27;,\n",
              "                                                  OneHotEncoder(handle_unknown=&#x27;ignore&#x27;),\n",
              "                                                  [&#x27;DRUG_NAME&#x27;,\n",
              "                                                   &#x27;TARGET_PATHWAY&#x27;,\n",
              "                                                   &#x27;TARGET&#x27;])])),\n",
              "                (&#x27;regressor&#x27;, LinearRegression())])</pre><b>In a Jupyter environment, please rerun this cell to show the HTML representation or trust the notebook. <br />On GitHub, the HTML representation is unable to render, please try loading this page with nbviewer.org.</b></div><div class=\"sk-container\" hidden><div class=\"sk-item sk-dashed-wrapped\"><div class=\"sk-label-container\"><div class=\"sk-label fitted sk-toggleable\"><input class=\"sk-toggleable__control sk-hidden--visually\" id=\"sk-estimator-id-10\" type=\"checkbox\" ><label for=\"sk-estimator-id-10\" class=\"sk-toggleable__label fitted sk-toggleable__label-arrow\"><div><div>Pipeline</div></div><div><a class=\"sk-estimator-doc-link fitted\" rel=\"noreferrer\" target=\"_blank\" href=\"https://scikit-learn.org/1.6/modules/generated/sklearn.pipeline.Pipeline.html\">?<span>Documentation for Pipeline</span></a><span class=\"sk-estimator-doc-link fitted\">i<span>Fitted</span></span></div></label><div class=\"sk-toggleable__content fitted\"><pre>Pipeline(steps=[(&#x27;preprocessor&#x27;,\n",
              "                 ColumnTransformer(remainder=&#x27;passthrough&#x27;,\n",
              "                                   transformers=[(&#x27;num&#x27;, StandardScaler(),\n",
              "                                                  [&#x27;MAX_CONC&#x27;, &#x27;MIN_CONC&#x27;]),\n",
              "                                                 (&#x27;cat&#x27;,\n",
              "                                                  OneHotEncoder(handle_unknown=&#x27;ignore&#x27;),\n",
              "                                                  [&#x27;DRUG_NAME&#x27;,\n",
              "                                                   &#x27;TARGET_PATHWAY&#x27;,\n",
              "                                                   &#x27;TARGET&#x27;])])),\n",
              "                (&#x27;regressor&#x27;, LinearRegression())])</pre></div> </div></div><div class=\"sk-serial\"><div class=\"sk-item sk-dashed-wrapped\"><div class=\"sk-label-container\"><div class=\"sk-label fitted sk-toggleable\"><input class=\"sk-toggleable__control sk-hidden--visually\" id=\"sk-estimator-id-11\" type=\"checkbox\" ><label for=\"sk-estimator-id-11\" class=\"sk-toggleable__label fitted sk-toggleable__label-arrow\"><div><div>preprocessor: ColumnTransformer</div></div><div><a class=\"sk-estimator-doc-link fitted\" rel=\"noreferrer\" target=\"_blank\" href=\"https://scikit-learn.org/1.6/modules/generated/sklearn.compose.ColumnTransformer.html\">?<span>Documentation for preprocessor: ColumnTransformer</span></a></div></label><div class=\"sk-toggleable__content fitted\"><pre>ColumnTransformer(remainder=&#x27;passthrough&#x27;,\n",
              "                  transformers=[(&#x27;num&#x27;, StandardScaler(),\n",
              "                                 [&#x27;MAX_CONC&#x27;, &#x27;MIN_CONC&#x27;]),\n",
              "                                (&#x27;cat&#x27;, OneHotEncoder(handle_unknown=&#x27;ignore&#x27;),\n",
              "                                 [&#x27;DRUG_NAME&#x27;, &#x27;TARGET_PATHWAY&#x27;, &#x27;TARGET&#x27;])])</pre></div> </div></div><div class=\"sk-parallel\"><div class=\"sk-parallel-item\"><div class=\"sk-item\"><div class=\"sk-label-container\"><div class=\"sk-label fitted sk-toggleable\"><input class=\"sk-toggleable__control sk-hidden--visually\" id=\"sk-estimator-id-12\" type=\"checkbox\" ><label for=\"sk-estimator-id-12\" class=\"sk-toggleable__label fitted sk-toggleable__label-arrow\"><div><div>num</div></div></label><div class=\"sk-toggleable__content fitted\"><pre>[&#x27;MAX_CONC&#x27;, &#x27;MIN_CONC&#x27;]</pre></div> </div></div><div class=\"sk-serial\"><div class=\"sk-item\"><div class=\"sk-estimator fitted sk-toggleable\"><input class=\"sk-toggleable__control sk-hidden--visually\" id=\"sk-estimator-id-13\" type=\"checkbox\" ><label for=\"sk-estimator-id-13\" class=\"sk-toggleable__label fitted sk-toggleable__label-arrow\"><div><div>StandardScaler</div></div><div><a class=\"sk-estimator-doc-link fitted\" rel=\"noreferrer\" target=\"_blank\" href=\"https://scikit-learn.org/1.6/modules/generated/sklearn.preprocessing.StandardScaler.html\">?<span>Documentation for StandardScaler</span></a></div></label><div class=\"sk-toggleable__content fitted\"><pre>StandardScaler()</pre></div> </div></div></div></div></div><div class=\"sk-parallel-item\"><div class=\"sk-item\"><div class=\"sk-label-container\"><div class=\"sk-label fitted sk-toggleable\"><input class=\"sk-toggleable__control sk-hidden--visually\" id=\"sk-estimator-id-14\" type=\"checkbox\" ><label for=\"sk-estimator-id-14\" class=\"sk-toggleable__label fitted sk-toggleable__label-arrow\"><div><div>cat</div></div></label><div class=\"sk-toggleable__content fitted\"><pre>[&#x27;DRUG_NAME&#x27;, &#x27;TARGET_PATHWAY&#x27;, &#x27;TARGET&#x27;]</pre></div> </div></div><div class=\"sk-serial\"><div class=\"sk-item\"><div class=\"sk-estimator fitted sk-toggleable\"><input class=\"sk-toggleable__control sk-hidden--visually\" id=\"sk-estimator-id-15\" type=\"checkbox\" ><label for=\"sk-estimator-id-15\" class=\"sk-toggleable__label fitted sk-toggleable__label-arrow\"><div><div>OneHotEncoder</div></div><div><a class=\"sk-estimator-doc-link fitted\" rel=\"noreferrer\" target=\"_blank\" href=\"https://scikit-learn.org/1.6/modules/generated/sklearn.preprocessing.OneHotEncoder.html\">?<span>Documentation for OneHotEncoder</span></a></div></label><div class=\"sk-toggleable__content fitted\"><pre>OneHotEncoder(handle_unknown=&#x27;ignore&#x27;)</pre></div> </div></div></div></div></div><div class=\"sk-parallel-item\"><div class=\"sk-item\"><div class=\"sk-label-container\"><div class=\"sk-label fitted sk-toggleable\"><input class=\"sk-toggleable__control sk-hidden--visually\" id=\"sk-estimator-id-16\" type=\"checkbox\" ><label for=\"sk-estimator-id-16\" class=\"sk-toggleable__label fitted sk-toggleable__label-arrow\"><div><div>remainder</div></div></label><div class=\"sk-toggleable__content fitted\"><pre>[]</pre></div> </div></div><div class=\"sk-serial\"><div class=\"sk-item\"><div class=\"sk-estimator fitted sk-toggleable\"><input class=\"sk-toggleable__control sk-hidden--visually\" id=\"sk-estimator-id-17\" type=\"checkbox\" ><label for=\"sk-estimator-id-17\" class=\"sk-toggleable__label fitted sk-toggleable__label-arrow\"><div><div>passthrough</div></div></label><div class=\"sk-toggleable__content fitted\"><pre>passthrough</pre></div> </div></div></div></div></div></div></div><div class=\"sk-item\"><div class=\"sk-estimator fitted sk-toggleable\"><input class=\"sk-toggleable__control sk-hidden--visually\" id=\"sk-estimator-id-18\" type=\"checkbox\" ><label for=\"sk-estimator-id-18\" class=\"sk-toggleable__label fitted sk-toggleable__label-arrow\"><div><div>LinearRegression</div></div><div><a class=\"sk-estimator-doc-link fitted\" rel=\"noreferrer\" target=\"_blank\" href=\"https://scikit-learn.org/1.6/modules/generated/sklearn.linear_model.LinearRegression.html\">?<span>Documentation for LinearRegression</span></a></div></label><div class=\"sk-toggleable__content fitted\"><pre>LinearRegression()</pre></div> </div></div></div></div></div></div>"
            ]
          },
          "metadata": {},
          "execution_count": 70
        }
      ]
    },
    {
      "cell_type": "code",
      "source": [
        "# Make predictions on the held-out test data.\n",
        "y_pred = model.predict(X_test)"
      ],
      "metadata": {
        "id": "37r-X8MYYCf7"
      },
      "execution_count": null,
      "outputs": []
    },
    {
      "cell_type": "code",
      "source": [
        "# Evaluate the model's performance using standard regression metrics.\n",
        "mse = mean_squared_error(y_test, y_pred)\n",
        "rmse = np.sqrt(mse)\n",
        "r2 = r2_score(y_test, y_pred)"
      ],
      "metadata": {
        "id": "AXkuosn4YG2c"
      },
      "execution_count": null,
      "outputs": []
    },
    {
      "cell_type": "code",
      "source": [
        "print(f\"\\nMean Squared Error (MSE): {mse:.4f}\")\n",
        "print(f\"Root Mean Squared Error (RMSE): {rmse:.4f}\")\n",
        "print(f\"R-squared (R2): {r2:.4f}\")"
      ],
      "metadata": {
        "id": "Vr8-nYeQYML1",
        "colab": {
          "base_uri": "https://localhost:8080/"
        },
        "outputId": "161fea27-bc02-42a5-89de-867b071815fa"
      },
      "execution_count": null,
      "outputs": [
        {
          "output_type": "stream",
          "name": "stdout",
          "text": [
            "\n",
            "Mean Squared Error (MSE): 1.9527\n",
            "Root Mean Squared Error (RMSE): 1.3974\n",
            "R-squared (R2): 0.7231\n"
          ]
        }
      ]
    },
    {
      "cell_type": "code",
      "source": [
        "# Create the plot to visualize predicted vs. actual values.\n",
        "plt.figure(figsize=(10, 6))\n",
        "# sns.regplot plots the scatter points and a regression line to show the trend.\n",
        "# `scatter_kws={'alpha': 0.3}` makes the points semi-transparent to better visualize density.\n",
        "sns.regplot(x=y_test, y=y_pred, scatter_kws={'alpha': 0.3})\n",
        "plt.xlabel(\"Actual LN_IC50\")\n",
        "plt.ylabel(\"Predicted LN_IC50\")\n",
        "plt.title(\"Actual vs. Predicted Drug Sensitivity (Breast Cancer)\")\n",
        "plt.show()"
      ],
      "metadata": {
        "id": "UjiKr5u9YP3p",
        "colab": {
          "base_uri": "https://localhost:8080/",
          "height": 564
        },
        "outputId": "27906b28-945c-4dd4-b846-90912fa29663"
      },
      "execution_count": null,
      "outputs": [
        {
          "output_type": "display_data",
          "data": {
            "text/plain": [
              "<Figure size 1000x600 with 1 Axes>"
            ],
            "image/png": "[encoded data removed]"
          },
          "metadata": {}
        }
      ]
    }
  ]
}