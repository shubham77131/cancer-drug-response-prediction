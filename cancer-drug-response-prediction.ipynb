{
  "nbformat": 4,
  "nbformat_minor": 0,
  "metadata": {
    "colab": {
      "provenance": []
    },
    "kernelspec": {
      "name": "python3",
      "display_name": "Python 3"
    },
    "language_info": {
      "name": "python"
    }
  },
  "cells": [
    {
      "cell_type": "code",
      "execution_count": null,
      "metadata": {
        "id": "prgPjLfHT5BB"
      },
      "outputs": [],
      "source": [
        "#Import necessary libraries.\n",
        "import pandas as pd\n",
        "import numpy as np\n",
        "import matplotlib.pyplot as plt\n",
        "import seaborn as sns\n",
        "from sklearn.model_selection import train_test_split\n",
        "from sklearn.linear_model import LinearRegression\n",
        "from sklearn.preprocessing import StandardScaler, OneHotEncoder\n",
        "from sklearn.compose import ColumnTransformer\n",
        "from sklearn.pipeline import Pipeline\n",
        "from sklearn.metrics import mean_squared_error, r2_score\n",
        "from google.colab import files\n",
        "import zipfile\n",
        "from google.colab import files\n",
        "import os"
      ]
    },
    {
      "cell_type": "code",
      "source": [
        "# Install the Kaggle API library and its dependencies.\n",
        "!pip install kaggle --upgrade --quiet"
      ],
      "metadata": {
        "id": "rC31KwR9FwQ_"
      },
      "execution_count": null,
      "outputs": []
    },
    {
      "cell_type": "code",
      "source": [
        "# Upload your kaggle.json file\n",
        "print(\"Please upload your kaggle.json API file.\")\n",
        "files.upload()"
      ],
      "metadata": {
        "id": "oixRStsQF2Mo"
      },
      "execution_count": null,
      "outputs": []
    },
    {
      "cell_type": "code",
      "source": [
        "# Set up the Kaggle API client\n",
        "!mkdir -p ~/.kaggle\n",
        "!mv kaggle.json ~/.kaggle/\n",
        "!chmod 600 ~/.kaggle/kaggle.json"
      ],
      "metadata": {
        "id": "ShfdWYp2F7xn"
      },
      "execution_count": null,
      "outputs": []
    },
    {
      "cell_type": "code",
      "source": [
        "DATASET_API_COMMAND = \"kaggle datasets download samiraalipour/genomics-of-drug-sensitivity-in-cancer-gdsc\"\n",
        "# The name of the zip file to expect.\n",
        "ZIP_FILE_NAME = \"genomics-of-drug-sensitivity-in-cancer-gdsc.zip\"\n",
        "# The directory to extract the files into.\n",
        "EXTRACTION_DIR = \"./gdsc-dataset\""
      ],
      "metadata": {
        "id": "_GEskRYwNcg9"
      },
      "execution_count": null,
      "outputs": []
    },
    {
      "cell_type": "code",
      "source": [
        "print(\"\\nDownloading dataset...\")\n",
        "!$DATASET_API_COMMAND"
      ],
      "metadata": {
        "id": "d2bmqE_ePoyn"
      },
      "execution_count": null,
      "outputs": []
    },
    {
      "cell_type": "code",
      "source": [
        "#Unzip the dataset into the specified directory\n",
        "if os.path.exists(ZIP_FILE_NAME):\n",
        "    os.makedirs(EXTRACTION_DIR, exist_ok=True)\n",
        "    with zipfile.ZipFile(ZIP_FILE_NAME, 'r') as zip_ref:\n",
        "        zip_ref.extractall(EXTRACTION_DIR)\n",
        "    print(f\"Extraction of {ZIP_FILE_NAME} completed to {EXTRACTION_DIR}/\")\n",
        "    os.remove(ZIP_FILE_NAME)\n",
        "else:\n",
        "    print(f\"Error: {ZIP_FILE_NAME} not found. Please check the dataset API command.\")"
      ],
      "metadata": {
        "id": "waBCazIHPpj1"
      },
      "execution_count": null,
      "outputs": []
    },
    {
      "cell_type": "code",
      "source": [
        "#Verify the files are extracted\n",
        "print(\"\\nExtracted files are available at:\", EXTRACTION_DIR)\n",
        "print(\"Listing contents of the extraction directory:\")\n",
        "!ls -F {EXTRACTION_DIR}"
      ],
      "metadata": {
        "id": "ClWLHo2vP_t9"
      },
      "execution_count": null,
      "outputs": []
    },
    {
      "cell_type": "code",
      "source": [
        "# The EXTRACTION_DIR is already defined and populated by the first cell.\n",
        "# Define the file paths for each CSV file.\n",
        "gdsc_dataset_file_path = os.path.join(EXTRACTION_DIR, 'GDSC_DATASET.csv')\n",
        "gdsc_dataset2_file_path = os.path.join(EXTRACTION_DIR, 'GDSC2-dataset.csv')"
      ],
      "metadata": {
        "id": "2GuvKdbnQp08"
      },
      "execution_count": null,
      "outputs": []
    },
    {
      "cell_type": "code",
      "source": [
        "# Load the datasets into pandas DataFrames.\n",
        "gdsc_df = pd.read_csv(gdsc_dataset_file_path)\n",
        "drug_conc_df = pd.read_csv(gdsc_dataset2_file_path)"
      ],
      "metadata": {
        "id": "45zUiQrF2Z8L"
      },
      "execution_count": null,
      "outputs": []
    },
    {
      "cell_type": "code",
      "source": [
        "#Viewing initial content of the dataset.\n",
        "print(gdsc_df.head())"
      ],
      "metadata": {
        "id": "2gGupTtB2ndo"
      },
      "execution_count": null,
      "outputs": []
    },
    {
      "cell_type": "code",
      "source": [
        "#Viewing statistical information of the dataset.\n",
        "print(gdsc_df.info())"
      ],
      "metadata": {
        "id": "CNA1XRAE2pWz"
      },
      "execution_count": null,
      "outputs": []
    },
    {
      "cell_type": "code",
      "source": [
        "#Finding different cancer types in GDSC dataset\n",
        "print(\"Unique cancer types in dataset:\", gdsc_df['TCGA_DESC'].unique())"
      ],
      "metadata": {
        "id": "Vcx18oSF7zzg"
      },
      "execution_count": null,
      "outputs": []
    },
    {
      "cell_type": "code",
      "source": [
        "# Filter the main GDSC dataset to include only breast cancer cell lines.\n",
        "# The `.copy()` method is used to ensure we are working on a new, independent DataFrame\n",
        "breast_cancer_df = gdsc_df[gdsc_df['TCGA_DESC'] == 'BRCA'].copy()\n",
        "# Merge the breast cancer data with drug concentration details.\n",
        "# The merge is performed on 'DRUG_ID', with a 'left' join to ensure all breast cancer\n",
        "# rows are kept, and concentration data is added only for matching Drug IDs.\n",
        "merged_df = pd.merge(breast_cancer_df, drug_conc_df[['DRUG_ID', 'MAX_CONC', 'MIN_CONC']], on='DRUG_ID', how='left')\n",
        "# The `dropna` function is used here to remove any rows where there was no matching\n",
        "merged_df.dropna(subset=['MAX_CONC', 'MIN_CONC'], inplace=True)"
      ],
      "metadata": {
        "id": "p5hi8AQW8g0d"
      },
      "execution_count": null,
      "outputs": []
    },
    {
      "cell_type": "code",
      "source": [
        "#Compare the size of origional dataset with the filtered dataset.\n",
        "print(f\"Original dataset size: {gdsc_df.shape[0]} rows\")\n",
        "print(f\"Filtered breast cancer dataset size: {breast_cancer_df.shape[0]} rows\")"
      ],
      "metadata": {
        "id": "4_CEMCBY8l-1"
      },
      "execution_count": null,
      "outputs": []
    },
    {
      "cell_type": "code",
      "source": [
        "#Inspecct merged dataset.\n",
        "print(f\"\\nMerged dataset size: {merged_df.shape} rows\")\n",
        "print(\"\\nMerged DataFrame head:\")\n",
        "print(merged_df.head())"
      ],
      "metadata": {
        "id": "r92WNirC0PLI"
      },
      "execution_count": null,
      "outputs": []
    },
    {
      "cell_type": "code",
      "source": [
        "# Define the target variable.\n",
        "target = 'LN_IC50'"
      ],
      "metadata": {
        "id": "lbwm98tW8vih"
      },
      "execution_count": null,
      "outputs": []
    },
    {
      "cell_type": "code",
      "source": [
        "#Feature selection.\n",
        "features = ['DRUG_NAME', 'TARGET_PATHWAY', 'TARGET', 'MAX_CONC', 'MIN_CONC']"
      ],
      "metadata": {
        "id": "b4kjADptVg2C"
      },
      "execution_count": null,
      "outputs": []
    },
    {
      "cell_type": "code",
      "source": [
        "#Features on x and Target on y axis.\n",
        "X = merged_df[features]\n",
        "y = merged_df[target]"
      ],
      "metadata": {
        "id": "xGVkmoPcVlzl"
      },
      "execution_count": null,
      "outputs": []
    },
    {
      "cell_type": "code",
      "source": [
        "# Define numerical and categorical features for preprocessing.\n",
        "categorical_features = ['DRUG_NAME', 'TARGET_PATHWAY', 'TARGET']\n",
        "numerical_features = ['MAX_CONC', 'MIN_CONC']"
      ],
      "metadata": {
        "id": "pReKHhzfWDSO"
      },
      "execution_count": null,
      "outputs": []
    },
    {
      "cell_type": "code",
      "source": [
        "#Standardisation for numerical features and one hot encoding for categorical features.\n",
        "numerical_transformer = StandardScaler()\n",
        "categorical_transformer = OneHotEncoder(handle_unknown='ignore')"
      ],
      "metadata": {
        "id": "-MAs9b8bXo0i"
      },
      "execution_count": null,
      "outputs": []
    },
    {
      "cell_type": "code",
      "source": [
        "# Create preprocessing pipelines for numerical (StandardScaler) and categorical (OneHotEncoder) data.\n",
        "preprocessor = ColumnTransformer(\n",
        "    transformers=[\n",
        "        ('num', numerical_transformer, numerical_features),\n",
        "        ('cat', categorical_transformer, categorical_features)\n",
        "    ],\n",
        "    remainder='passthrough'\n",
        ")"
      ],
      "metadata": {
        "id": "xT1tMM90Xs_g"
      },
      "execution_count": null,
      "outputs": []
    },
    {
      "cell_type": "code",
      "source": [
        "# Split the data into training and testing sets. `random_state=42` ensures the split is reproducible.\n",
        "X_train, X_test, y_train, y_test = train_test_split(\n",
        "    X, y, test_size=0.25, random_state=42\n",
        ")"
      ],
      "metadata": {
        "id": "zI_hdVZ0X4-F"
      },
      "execution_count": null,
      "outputs": []
    },
    {
      "cell_type": "code",
      "source": [
        "# Create the final model pipeline that preprocesses and then trains the regressor.\n",
        "model = Pipeline(steps=[\n",
        "    ('preprocessor', preprocessor),\n",
        "    ('regressor', LinearRegression())\n",
        "])"
      ],
      "metadata": {
        "id": "6Z_GENiZX52b"
      },
      "execution_count": null,
      "outputs": []
    },
    {
      "cell_type": "code",
      "source": [
        "# Train the model pipeline on the training data.\n",
        "model.fit(X_train, y_train)"
      ],
      "metadata": {
        "id": "HgG0ljaDX_ZP"
      },
      "execution_count": null,
      "outputs": []
    },
    {
      "cell_type": "code",
      "source": [
        "# Make predictions on the held-out test data.\n",
        "y_pred = model.predict(X_test)"
      ],
      "metadata": {
        "id": "37r-X8MYYCf7"
      },
      "execution_count": null,
      "outputs": []
    },
    {
      "cell_type": "code",
      "source": [
        "# Evaluate the model's performance using standard regression metrics.\n",
        "mse = mean_squared_error(y_test, y_pred)\n",
        "rmse = np.sqrt(mse)\n",
        "r2 = r2_score(y_test, y_pred)"
      ],
      "metadata": {
        "id": "AXkuosn4YG2c"
      },
      "execution_count": null,
      "outputs": []
    },
    {
      "cell_type": "code",
      "source": [
        "print(f\"\\nMean Squared Error (MSE): {mse:.4f}\")\n",
        "print(f\"Root Mean Squared Error (RMSE): {rmse:.4f}\")\n",
        "print(f\"R-squared (R2): {r2:.4f}\")"
      ],
      "metadata": {
        "id": "Vr8-nYeQYML1"
      },
      "execution_count": null,
      "outputs": []
    },
    {
      "cell_type": "code",
      "source": [
        "# Create the plot to visualize predicted vs. actual values.\n",
        "plt.figure(figsize=(10, 6))\n",
        "# sns.regplot plots the scatter points and a regression line to show the trend.\n",
        "# `scatter_kws={'alpha': 0.3}` makes the points semi-transparent to better visualize density.\n",
        "sns.regplot(x=y_test, y=y_pred, scatter_kws={'alpha': 0.3})\n",
        "plt.xlabel(\"Actual LN_IC50\")\n",
        "plt.ylabel(\"Predicted LN_IC50\")\n",
        "plt.title(\"Actual vs. Predicted Drug Sensitivity (Breast Cancer)\")\n",
        "plt.show()"
      ],
      "metadata": {
        "id": "UjiKr5u9YP3p"
      },
      "execution_count": null,
      "outputs": []
    }
  ]
}
